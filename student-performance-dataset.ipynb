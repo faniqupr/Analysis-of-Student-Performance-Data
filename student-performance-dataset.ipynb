{
 "cells": [
  {
   "cell_type": "markdown",
   "metadata": {},
   "source": [
    "Analysis of Student Performance Data"
   ]
  },
  {
   "cell_type": "markdown",
   "metadata": {},
   "source": [
    "Background Information:\n",
    "\n",
    "We have chosen to analyze data collected on students from two secondary schools in Portugal. Information was recorded by survey and school reports on both the educational careers and the personal lives of the students. In total, 33 variables were recorded for the dataset. The data includes details on grades, work and health habits, as well as family background and details on time spent outside of school. For example, information such as parental work status; time spent travelling, studying, leisure; and other personal information like age, sex and school attended. "
   ]
  },
  {
   "cell_type": "markdown",
   "metadata": {},
   "source": [
    "Question being answered in this project:\n",
    "\n",
    "Our goal is to determine if a student’s final grade (denoted as G3 in the data set) can be accurately predicted based on a set of chosen variables (first and second period grades, denoted as G1 and G2). Namely, we will attempt to answer the question: What final grade will a student receive according to their previous grades?"
   ]
  },
  {
   "cell_type": "markdown",
   "metadata": {},
   "source": [
    "First, we added the required libraries before beginning our analysis."
   ]
  },
  {
   "cell_type": "code",
   "execution_count": 1,
   "metadata": {},
   "outputs": [
    {
     "name": "stderr",
     "output_type": "stream",
     "text": [
      "── \u001b[1mAttaching packages\u001b[22m ─────────────────────────────────────── tidyverse 1.3.0 ──\n",
      "\n",
      "\u001b[32m✔\u001b[39m \u001b[34mggplot2\u001b[39m 3.3.2     \u001b[32m✔\u001b[39m \u001b[34mpurrr  \u001b[39m 0.3.4\n",
      "\u001b[32m✔\u001b[39m \u001b[34mtibble \u001b[39m 3.0.3     \u001b[32m✔\u001b[39m \u001b[34mdplyr  \u001b[39m 1.0.2\n",
      "\u001b[32m✔\u001b[39m \u001b[34mtidyr  \u001b[39m 1.1.2     \u001b[32m✔\u001b[39m \u001b[34mstringr\u001b[39m 1.4.0\n",
      "\u001b[32m✔\u001b[39m \u001b[34mreadr  \u001b[39m 1.3.1     \u001b[32m✔\u001b[39m \u001b[34mforcats\u001b[39m 0.5.0\n",
      "\n",
      "Warning message:\n",
      "“package ‘ggplot2’ was built under R version 4.0.1”\n",
      "Warning message:\n",
      "“package ‘tibble’ was built under R version 4.0.2”\n",
      "Warning message:\n",
      "“package ‘tidyr’ was built under R version 4.0.2”\n",
      "Warning message:\n",
      "“package ‘dplyr’ was built under R version 4.0.2”\n",
      "── \u001b[1mConflicts\u001b[22m ────────────────────────────────────────── tidyverse_conflicts() ──\n",
      "\u001b[31m✖\u001b[39m \u001b[34mdplyr\u001b[39m::\u001b[32mfilter()\u001b[39m masks \u001b[34mstats\u001b[39m::filter()\n",
      "\u001b[31m✖\u001b[39m \u001b[34mdplyr\u001b[39m::\u001b[32mlag()\u001b[39m    masks \u001b[34mstats\u001b[39m::lag()\n",
      "\n",
      "Warning message:\n",
      "“package ‘tidymodels’ was built under R version 4.0.2”\n",
      "── \u001b[1mAttaching packages\u001b[22m ────────────────────────────────────── tidymodels 0.1.1 ──\n",
      "\n",
      "\u001b[32m✔\u001b[39m \u001b[34mbroom    \u001b[39m 0.7.0      \u001b[32m✔\u001b[39m \u001b[34mrecipes  \u001b[39m 0.1.13\n",
      "\u001b[32m✔\u001b[39m \u001b[34mdials    \u001b[39m 0.0.9      \u001b[32m✔\u001b[39m \u001b[34mrsample  \u001b[39m 0.0.7 \n",
      "\u001b[32m✔\u001b[39m \u001b[34minfer    \u001b[39m 0.5.4      \u001b[32m✔\u001b[39m \u001b[34mtune     \u001b[39m 0.1.1 \n",
      "\u001b[32m✔\u001b[39m \u001b[34mmodeldata\u001b[39m 0.0.2      \u001b[32m✔\u001b[39m \u001b[34mworkflows\u001b[39m 0.2.0 \n",
      "\u001b[32m✔\u001b[39m \u001b[34mparsnip  \u001b[39m 0.1.3      \u001b[32m✔\u001b[39m \u001b[34myardstick\u001b[39m 0.0.7 \n",
      "\n",
      "Warning message:\n",
      "“package ‘broom’ was built under R version 4.0.2”\n",
      "Warning message:\n",
      "“package ‘dials’ was built under R version 4.0.2”\n",
      "Warning message:\n",
      "“package ‘infer’ was built under R version 4.0.3”\n",
      "Warning message:\n",
      "“package ‘modeldata’ was built under R version 4.0.1”\n",
      "Warning message:\n",
      "“package ‘parsnip’ was built under R version 4.0.2”\n",
      "Warning message:\n",
      "“package ‘recipes’ was built under R version 4.0.1”\n",
      "Warning message:\n",
      "“package ‘tune’ was built under R version 4.0.2”\n",
      "Warning message:\n",
      "“package ‘workflows’ was built under R version 4.0.2”\n",
      "Warning message:\n",
      "“package ‘yardstick’ was built under R version 4.0.2”\n",
      "── \u001b[1mConflicts\u001b[22m ───────────────────────────────────────── tidymodels_conflicts() ──\n",
      "\u001b[31m✖\u001b[39m \u001b[34mscales\u001b[39m::\u001b[32mdiscard()\u001b[39m masks \u001b[34mpurrr\u001b[39m::discard()\n",
      "\u001b[31m✖\u001b[39m \u001b[34mdplyr\u001b[39m::\u001b[32mfilter()\u001b[39m   masks \u001b[34mstats\u001b[39m::filter()\n",
      "\u001b[31m✖\u001b[39m \u001b[34mrecipes\u001b[39m::\u001b[32mfixed()\u001b[39m  masks \u001b[34mstringr\u001b[39m::fixed()\n",
      "\u001b[31m✖\u001b[39m \u001b[34mdplyr\u001b[39m::\u001b[32mlag()\u001b[39m      masks \u001b[34mstats\u001b[39m::lag()\n",
      "\u001b[31m✖\u001b[39m \u001b[34myardstick\u001b[39m::\u001b[32mspec()\u001b[39m masks \u001b[34mreadr\u001b[39m::spec()\n",
      "\u001b[31m✖\u001b[39m \u001b[34mrecipes\u001b[39m::\u001b[32mstep()\u001b[39m   masks \u001b[34mstats\u001b[39m::step()\n",
      "\n",
      "Registered S3 method overwritten by 'GGally':\n",
      "  method from   \n",
      "  +.gg   ggplot2\n",
      "\n",
      "Warning message:\n",
      "“package ‘cowplot’ was built under R version 4.0.3”\n"
     ]
    }
   ],
   "source": [
    "library(tidyverse)\n",
    "library(repr)\n",
    "library(tidymodels)\n",
    "library(GGally)\n",
    "library(cowplot)\n",
    "library(shiny)"
   ]
  },
  {
   "cell_type": "markdown",
   "metadata": {},
   "source": [
    "Reading the file:\n",
    "\n",
    "The dataset is available as a zip file on the web. Thus, we have downloaded it as a zip file and used the unzip function to obtain the individual files. The file we are interested in is student-por.csv. We have read this file using read_delim function rather than using read_csv because the observations for different variables are separated by a semicolon rather than comma(the usual format for .csv files). Next, we count the number of rows in the entire data frame, before and after, filtering for missing values. We can see that the number of rows(649) did not change, therefore we can conclude that there are no missing observations. We then display the first 6 rows of the data, which, as we can see, contains 33 variables. "
   ]
  },
  {
   "cell_type": "code",
   "execution_count": 2,
   "metadata": {},
   "outputs": [
    {
     "name": "stderr",
     "output_type": "stream",
     "text": [
      "Parsed with column specification:\n",
      "cols(\n",
      "  .default = col_character(),\n",
      "  age = \u001b[32mcol_double()\u001b[39m,\n",
      "  Medu = \u001b[32mcol_double()\u001b[39m,\n",
      "  Fedu = \u001b[32mcol_double()\u001b[39m,\n",
      "  traveltime = \u001b[32mcol_double()\u001b[39m,\n",
      "  studytime = \u001b[32mcol_double()\u001b[39m,\n",
      "  failures = \u001b[32mcol_double()\u001b[39m,\n",
      "  famrel = \u001b[32mcol_double()\u001b[39m,\n",
      "  freetime = \u001b[32mcol_double()\u001b[39m,\n",
      "  goout = \u001b[32mcol_double()\u001b[39m,\n",
      "  Dalc = \u001b[32mcol_double()\u001b[39m,\n",
      "  Walc = \u001b[32mcol_double()\u001b[39m,\n",
      "  health = \u001b[32mcol_double()\u001b[39m,\n",
      "  absences = \u001b[32mcol_double()\u001b[39m,\n",
      "  G1 = \u001b[32mcol_double()\u001b[39m,\n",
      "  G2 = \u001b[32mcol_double()\u001b[39m,\n",
      "  G3 = \u001b[32mcol_double()\u001b[39m\n",
      ")\n",
      "\n",
      "See spec(...) for full column specifications.\n",
      "\n"
     ]
    },
    {
     "data": {
      "text/html": [
       "'649: Number of rows in the data set'"
      ],
      "text/latex": [
       "'649: Number of rows in the data set'"
      ],
      "text/markdown": [
       "'649: Number of rows in the data set'"
      ],
      "text/plain": [
       "[1] \"649: Number of rows in the data set\""
      ]
     },
     "metadata": {},
     "output_type": "display_data"
    },
    {
     "data": {
      "text/html": [
       "'649: Number of rows after filtering the data for missing observations'"
      ],
      "text/latex": [
       "'649: Number of rows after filtering the data for missing observations'"
      ],
      "text/markdown": [
       "'649: Number of rows after filtering the data for missing observations'"
      ],
      "text/plain": [
       "[1] \"649: Number of rows after filtering the data for missing observations\""
      ]
     },
     "metadata": {},
     "output_type": "display_data"
    },
    {
     "data": {
      "text/html": [
       "<!doctype html>\n",
       "<html>\n",
       "\t<head>\n",
       "\t\t<meta charset=\"utf-8\">\n",
       "\t\t\n",
       "\t</head>\n",
       "\t<body>\n",
       "\t\t<h2>Table 1</h2>\n",
       "\t</body>\n",
       "</html>\n"
      ],
      "text/plain": [
       "Shiny tags cannot be represented in plain text (need html)"
      ]
     },
     "metadata": {
      "text/html": {
       "isolated": true
      }
     },
     "output_type": "display_data"
    },
    {
     "data": {
      "text/html": [
       "<table>\n",
       "<caption>A tibble: 6 × 33</caption>\n",
       "<thead>\n",
       "\t<tr><th scope=col>school</th><th scope=col>sex</th><th scope=col>age</th><th scope=col>address</th><th scope=col>famsize</th><th scope=col>Pstatus</th><th scope=col>Medu</th><th scope=col>Fedu</th><th scope=col>Mjob</th><th scope=col>Fjob</th><th scope=col>⋯</th><th scope=col>famrel</th><th scope=col>freetime</th><th scope=col>goout</th><th scope=col>Dalc</th><th scope=col>Walc</th><th scope=col>health</th><th scope=col>absences</th><th scope=col>G1</th><th scope=col>G2</th><th scope=col>G3</th></tr>\n",
       "\t<tr><th scope=col>&lt;chr&gt;</th><th scope=col>&lt;chr&gt;</th><th scope=col>&lt;dbl&gt;</th><th scope=col>&lt;chr&gt;</th><th scope=col>&lt;chr&gt;</th><th scope=col>&lt;chr&gt;</th><th scope=col>&lt;dbl&gt;</th><th scope=col>&lt;dbl&gt;</th><th scope=col>&lt;chr&gt;</th><th scope=col>&lt;chr&gt;</th><th scope=col>⋯</th><th scope=col>&lt;dbl&gt;</th><th scope=col>&lt;dbl&gt;</th><th scope=col>&lt;dbl&gt;</th><th scope=col>&lt;dbl&gt;</th><th scope=col>&lt;dbl&gt;</th><th scope=col>&lt;dbl&gt;</th><th scope=col>&lt;dbl&gt;</th><th scope=col>&lt;dbl&gt;</th><th scope=col>&lt;dbl&gt;</th><th scope=col>&lt;dbl&gt;</th></tr>\n",
       "</thead>\n",
       "<tbody>\n",
       "\t<tr><td>GP</td><td>F</td><td>18</td><td>U</td><td>GT3</td><td>A</td><td>4</td><td>4</td><td>at_home </td><td>teacher </td><td>⋯</td><td>4</td><td>3</td><td>4</td><td>1</td><td>1</td><td>3</td><td>4</td><td> 0</td><td>11</td><td>11</td></tr>\n",
       "\t<tr><td>GP</td><td>F</td><td>17</td><td>U</td><td>GT3</td><td>T</td><td>1</td><td>1</td><td>at_home </td><td>other   </td><td>⋯</td><td>5</td><td>3</td><td>3</td><td>1</td><td>1</td><td>3</td><td>2</td><td> 9</td><td>11</td><td>11</td></tr>\n",
       "\t<tr><td>GP</td><td>F</td><td>15</td><td>U</td><td>LE3</td><td>T</td><td>1</td><td>1</td><td>at_home </td><td>other   </td><td>⋯</td><td>4</td><td>3</td><td>2</td><td>2</td><td>3</td><td>3</td><td>6</td><td>12</td><td>13</td><td>12</td></tr>\n",
       "\t<tr><td>GP</td><td>F</td><td>15</td><td>U</td><td>GT3</td><td>T</td><td>4</td><td>2</td><td>health  </td><td>services</td><td>⋯</td><td>3</td><td>2</td><td>2</td><td>1</td><td>1</td><td>5</td><td>0</td><td>14</td><td>14</td><td>14</td></tr>\n",
       "\t<tr><td>GP</td><td>F</td><td>16</td><td>U</td><td>GT3</td><td>T</td><td>3</td><td>3</td><td>other   </td><td>other   </td><td>⋯</td><td>4</td><td>3</td><td>2</td><td>1</td><td>2</td><td>5</td><td>0</td><td>11</td><td>13</td><td>13</td></tr>\n",
       "\t<tr><td>GP</td><td>M</td><td>16</td><td>U</td><td>LE3</td><td>T</td><td>4</td><td>3</td><td>services</td><td>other   </td><td>⋯</td><td>5</td><td>4</td><td>2</td><td>1</td><td>2</td><td>5</td><td>6</td><td>12</td><td>12</td><td>13</td></tr>\n",
       "</tbody>\n",
       "</table>\n"
      ],
      "text/latex": [
       "A tibble: 6 × 33\n",
       "\\begin{tabular}{lllllllllllllllllllll}\n",
       " school & sex & age & address & famsize & Pstatus & Medu & Fedu & Mjob & Fjob & ⋯ & famrel & freetime & goout & Dalc & Walc & health & absences & G1 & G2 & G3\\\\\n",
       " <chr> & <chr> & <dbl> & <chr> & <chr> & <chr> & <dbl> & <dbl> & <chr> & <chr> & ⋯ & <dbl> & <dbl> & <dbl> & <dbl> & <dbl> & <dbl> & <dbl> & <dbl> & <dbl> & <dbl>\\\\\n",
       "\\hline\n",
       "\t GP & F & 18 & U & GT3 & A & 4 & 4 & at\\_home  & teacher  & ⋯ & 4 & 3 & 4 & 1 & 1 & 3 & 4 &  0 & 11 & 11\\\\\n",
       "\t GP & F & 17 & U & GT3 & T & 1 & 1 & at\\_home  & other    & ⋯ & 5 & 3 & 3 & 1 & 1 & 3 & 2 &  9 & 11 & 11\\\\\n",
       "\t GP & F & 15 & U & LE3 & T & 1 & 1 & at\\_home  & other    & ⋯ & 4 & 3 & 2 & 2 & 3 & 3 & 6 & 12 & 13 & 12\\\\\n",
       "\t GP & F & 15 & U & GT3 & T & 4 & 2 & health   & services & ⋯ & 3 & 2 & 2 & 1 & 1 & 5 & 0 & 14 & 14 & 14\\\\\n",
       "\t GP & F & 16 & U & GT3 & T & 3 & 3 & other    & other    & ⋯ & 4 & 3 & 2 & 1 & 2 & 5 & 0 & 11 & 13 & 13\\\\\n",
       "\t GP & M & 16 & U & LE3 & T & 4 & 3 & services & other    & ⋯ & 5 & 4 & 2 & 1 & 2 & 5 & 6 & 12 & 12 & 13\\\\\n",
       "\\end{tabular}\n"
      ],
      "text/markdown": [
       "\n",
       "A tibble: 6 × 33\n",
       "\n",
       "| school &lt;chr&gt; | sex &lt;chr&gt; | age &lt;dbl&gt; | address &lt;chr&gt; | famsize &lt;chr&gt; | Pstatus &lt;chr&gt; | Medu &lt;dbl&gt; | Fedu &lt;dbl&gt; | Mjob &lt;chr&gt; | Fjob &lt;chr&gt; | ⋯ ⋯ | famrel &lt;dbl&gt; | freetime &lt;dbl&gt; | goout &lt;dbl&gt; | Dalc &lt;dbl&gt; | Walc &lt;dbl&gt; | health &lt;dbl&gt; | absences &lt;dbl&gt; | G1 &lt;dbl&gt; | G2 &lt;dbl&gt; | G3 &lt;dbl&gt; |\n",
       "|---|---|---|---|---|---|---|---|---|---|---|---|---|---|---|---|---|---|---|---|---|\n",
       "| GP | F | 18 | U | GT3 | A | 4 | 4 | at_home  | teacher  | ⋯ | 4 | 3 | 4 | 1 | 1 | 3 | 4 |  0 | 11 | 11 |\n",
       "| GP | F | 17 | U | GT3 | T | 1 | 1 | at_home  | other    | ⋯ | 5 | 3 | 3 | 1 | 1 | 3 | 2 |  9 | 11 | 11 |\n",
       "| GP | F | 15 | U | LE3 | T | 1 | 1 | at_home  | other    | ⋯ | 4 | 3 | 2 | 2 | 3 | 3 | 6 | 12 | 13 | 12 |\n",
       "| GP | F | 15 | U | GT3 | T | 4 | 2 | health   | services | ⋯ | 3 | 2 | 2 | 1 | 1 | 5 | 0 | 14 | 14 | 14 |\n",
       "| GP | F | 16 | U | GT3 | T | 3 | 3 | other    | other    | ⋯ | 4 | 3 | 2 | 1 | 2 | 5 | 0 | 11 | 13 | 13 |\n",
       "| GP | M | 16 | U | LE3 | T | 4 | 3 | services | other    | ⋯ | 5 | 4 | 2 | 1 | 2 | 5 | 6 | 12 | 12 | 13 |\n",
       "\n"
      ],
      "text/plain": [
       "  school sex age address famsize Pstatus Medu Fedu Mjob     Fjob     ⋯ famrel\n",
       "1 GP     F   18  U       GT3     A       4    4    at_home  teacher  ⋯ 4     \n",
       "2 GP     F   17  U       GT3     T       1    1    at_home  other    ⋯ 5     \n",
       "3 GP     F   15  U       LE3     T       1    1    at_home  other    ⋯ 4     \n",
       "4 GP     F   15  U       GT3     T       4    2    health   services ⋯ 3     \n",
       "5 GP     F   16  U       GT3     T       3    3    other    other    ⋯ 4     \n",
       "6 GP     M   16  U       LE3     T       4    3    services other    ⋯ 5     \n",
       "  freetime goout Dalc Walc health absences G1 G2 G3\n",
       "1 3        4     1    1    3      4         0 11 11\n",
       "2 3        3     1    1    3      2         9 11 11\n",
       "3 3        2     2    3    3      6        12 13 12\n",
       "4 2        2     1    1    5      0        14 14 14\n",
       "5 3        2     1    2    5      0        11 13 13\n",
       "6 4        2     1    2    5      6        12 12 13"
      ]
     },
     "metadata": {},
     "output_type": "display_data"
    }
   ],
   "source": [
    "url <- \"https://archive.ics.uci.edu/ml/machine-learning-databases/00320/student.zip\"\n",
    "download.file(url, \"student.zip\")\n",
    "unzip(\"student.zip\")\n",
    "student_data <- read_delim(\"student-por.csv\", delim=\";\") \n",
    "paste0(nrow(student_data), \": Number of rows in the data set\")\n",
    "paste0(nrow(filter(student_data, na.rm = TRUE)), \": Number of rows after filtering the data for missing observations\")\n",
    "tags$h2(\"Table 1\")\n",
    "head(student_data)"
   ]
  },
  {
   "cell_type": "markdown",
   "metadata": {},
   "source": [
    "Choosing predictors:\n",
    "\n",
    "Choosing every variable is not a good option when making a prediction. Therefore, we have used the cor() function to get the correlation coefficients for all numeric variables with respect to G3(our predicted variable). We see that G1 and G2 have the highest correlation with G3 and thus use the ggpairs function to better understand the correlation."
   ]
  },
  {
   "cell_type": "code",
   "execution_count": 3,
   "metadata": {},
   "outputs": [
    {
     "data": {
      "text/html": [
       "<!doctype html>\n",
       "<html>\n",
       "\t<head>\n",
       "\t\t<meta charset=\"utf-8\">\n",
       "\t\t\n",
       "\t</head>\n",
       "\t<body>\n",
       "\t\t<h2>Table 2</h2>\n",
       "\t</body>\n",
       "</html>\n"
      ],
      "text/plain": [
       "Shiny tags cannot be represented in plain text (need html)"
      ]
     },
     "metadata": {
      "text/html": {
       "isolated": true
      }
     },
     "output_type": "display_data"
    },
    {
     "data": {
      "text/html": [
       "<table>\n",
       "<caption>A data.frame: 1 × 16</caption>\n",
       "<thead>\n",
       "\t<tr><th></th><th scope=col>age</th><th scope=col>Medu</th><th scope=col>Fedu</th><th scope=col>traveltime</th><th scope=col>studytime</th><th scope=col>failures</th><th scope=col>famrel</th><th scope=col>freetime</th><th scope=col>goout</th><th scope=col>Dalc</th><th scope=col>Walc</th><th scope=col>health</th><th scope=col>absences</th><th scope=col>G1</th><th scope=col>G2</th><th scope=col>G3</th></tr>\n",
       "\t<tr><th></th><th scope=col>&lt;dbl&gt;</th><th scope=col>&lt;dbl&gt;</th><th scope=col>&lt;dbl&gt;</th><th scope=col>&lt;dbl&gt;</th><th scope=col>&lt;dbl&gt;</th><th scope=col>&lt;dbl&gt;</th><th scope=col>&lt;dbl&gt;</th><th scope=col>&lt;dbl&gt;</th><th scope=col>&lt;dbl&gt;</th><th scope=col>&lt;dbl&gt;</th><th scope=col>&lt;dbl&gt;</th><th scope=col>&lt;dbl&gt;</th><th scope=col>&lt;dbl&gt;</th><th scope=col>&lt;dbl&gt;</th><th scope=col>&lt;dbl&gt;</th><th scope=col>&lt;dbl&gt;</th></tr>\n",
       "</thead>\n",
       "<tbody>\n",
       "\t<tr><th scope=row>G3</th><td>-0.1065054</td><td>0.2401508</td><td>0.2117997</td><td>-0.127173</td><td>0.2497887</td><td>-0.3933155</td><td>0.06336113</td><td>-0.1227049</td><td>-0.08764072</td><td>-0.2047194</td><td>-0.1766189</td><td>-0.09885124</td><td>-0.09137906</td><td>0.8263871</td><td>0.918548</td><td>1</td></tr>\n",
       "</tbody>\n",
       "</table>\n"
      ],
      "text/latex": [
       "A data.frame: 1 × 16\n",
       "\\begin{tabular}{r|llllllllllllllll}\n",
       "  & age & Medu & Fedu & traveltime & studytime & failures & famrel & freetime & goout & Dalc & Walc & health & absences & G1 & G2 & G3\\\\\n",
       "  & <dbl> & <dbl> & <dbl> & <dbl> & <dbl> & <dbl> & <dbl> & <dbl> & <dbl> & <dbl> & <dbl> & <dbl> & <dbl> & <dbl> & <dbl> & <dbl>\\\\\n",
       "\\hline\n",
       "\tG3 & -0.1065054 & 0.2401508 & 0.2117997 & -0.127173 & 0.2497887 & -0.3933155 & 0.06336113 & -0.1227049 & -0.08764072 & -0.2047194 & -0.1766189 & -0.09885124 & -0.09137906 & 0.8263871 & 0.918548 & 1\\\\\n",
       "\\end{tabular}\n"
      ],
      "text/markdown": [
       "\n",
       "A data.frame: 1 × 16\n",
       "\n",
       "| <!--/--> | age &lt;dbl&gt; | Medu &lt;dbl&gt; | Fedu &lt;dbl&gt; | traveltime &lt;dbl&gt; | studytime &lt;dbl&gt; | failures &lt;dbl&gt; | famrel &lt;dbl&gt; | freetime &lt;dbl&gt; | goout &lt;dbl&gt; | Dalc &lt;dbl&gt; | Walc &lt;dbl&gt; | health &lt;dbl&gt; | absences &lt;dbl&gt; | G1 &lt;dbl&gt; | G2 &lt;dbl&gt; | G3 &lt;dbl&gt; |\n",
       "|---|---|---|---|---|---|---|---|---|---|---|---|---|---|---|---|---|\n",
       "| G3 | -0.1065054 | 0.2401508 | 0.2117997 | -0.127173 | 0.2497887 | -0.3933155 | 0.06336113 | -0.1227049 | -0.08764072 | -0.2047194 | -0.1766189 | -0.09885124 | -0.09137906 | 0.8263871 | 0.918548 | 1 |\n",
       "\n"
      ],
      "text/plain": [
       "   age        Medu      Fedu      traveltime studytime failures   famrel    \n",
       "G3 -0.1065054 0.2401508 0.2117997 -0.127173  0.2497887 -0.3933155 0.06336113\n",
       "   freetime   goout       Dalc       Walc       health      absences   \n",
       "G3 -0.1227049 -0.08764072 -0.2047194 -0.1766189 -0.09885124 -0.09137906\n",
       "   G1        G2       G3\n",
       "G3 0.8263871 0.918548 1 "
      ]
     },
     "metadata": {},
     "output_type": "display_data"
    },
    {
     "data": {
      "text/html": [
       "<!doctype html>\n",
       "<html>\n",
       "\t<head>\n",
       "\t\t<meta charset=\"utf-8\">\n",
       "\t\t\n",
       "\t</head>\n",
       "\t<body>\n",
       "\t\t<h2>Figure 1</h2>\n",
       "\t</body>\n",
       "</html>\n"
      ],
      "text/plain": [
       "Shiny tags cannot be represented in plain text (need html)"
      ]
     },
     "metadata": {
      "text/html": {
       "isolated": true
      }
     },
     "output_type": "display_data"
    },
    {
     "data": {
      "image/png": "[encoded data removed]",
      "text/plain": [
       "plot without title"
      ]
     },
     "metadata": {
      "image/png": {
       "height": 420,
       "width": 420
      }
     },
     "output_type": "display_data"
    }
   ],
   "source": [
    "tags$h2(\"Table 2\")\n",
    "student_numeric <- select(student_data, where(is.numeric)) #finding correlation coefficients\n",
    "cor(student_numeric) %>% as.data.frame() %>% slice(16)\n",
    "\n",
    "tags$h2(\"Figure 1\")\n",
    "student_select <- select(student_data, G1, G2, G3)\n",
    "predictor_visualization <- ggpairs(student_select)\n",
    "predictor_visualization\n",
    "# High correlation"
   ]
  },
  {
   "cell_type": "markdown",
   "metadata": {},
   "source": [
    "About the predictors:\n",
    "\n",
    "The variables we will be using as predictors are G1 and G2 which are the grades for the first and second periods respectively, with values ranging from 0 to 20. We chose these variables as we believe they most concisely offer a representation of a student’s success in the classroom as well as they were good predictors due to their high correlation with G3. These variables could also be found with minimal effort, as previous grades would be recorded, therefore not requiring any additional effort to collect."
   ]
  },
  {
   "cell_type": "markdown",
   "metadata": {},
   "source": [
    "Summary Statistics - Answering Exploratory Questions\n",
    "\n",
    "We set our seed so that our results are reproducible and then we divided our data into training and testing portions with a 75/25 split to allow for the tuning and evaluation of our model. We then calculated the mean and median for all 3 variables in the training data and aggregated them into a tidy table, as this would give us an idea of how differently the variables are distributed. <br>\n",
    "In the training data set, we observe:<br>\n",
    "•\tThere are 488 observations<br>\n",
    "•\tThere are no missing observations (as previously determined) and the data set is in a tidy format<br> \n",
    "•\tThe means and medians slightly increase across grading periods"
   ]
  },
  {
   "cell_type": "code",
   "execution_count": 4,
   "metadata": {},
   "outputs": [
    {
     "data": {
      "text/html": [
       "<!doctype html>\n",
       "<html>\n",
       "\t<head>\n",
       "\t\t<meta charset=\"utf-8\">\n",
       "\t\t\n",
       "\t</head>\n",
       "\t<body>\n",
       "\t\t<h2>Table 3</h2>\n",
       "\t</body>\n",
       "</html>\n"
      ],
      "text/plain": [
       "Shiny tags cannot be represented in plain text (need html)"
      ]
     },
     "metadata": {
      "text/html": {
       "isolated": true
      }
     },
     "output_type": "display_data"
    },
    {
     "data": {
      "text/html": [
       "<table>\n",
       "<caption>A tibble: 6 × 3</caption>\n",
       "<thead>\n",
       "\t<tr><th scope=col>G1</th><th scope=col>G2</th><th scope=col>G3</th></tr>\n",
       "\t<tr><th scope=col>&lt;dbl&gt;</th><th scope=col>&lt;dbl&gt;</th><th scope=col>&lt;dbl&gt;</th></tr>\n",
       "</thead>\n",
       "<tbody>\n",
       "\t<tr><td> 0</td><td>11</td><td>11</td></tr>\n",
       "\t<tr><td> 9</td><td>11</td><td>11</td></tr>\n",
       "\t<tr><td>12</td><td>13</td><td>12</td></tr>\n",
       "\t<tr><td>14</td><td>14</td><td>14</td></tr>\n",
       "\t<tr><td>11</td><td>13</td><td>13</td></tr>\n",
       "\t<tr><td>12</td><td>12</td><td>13</td></tr>\n",
       "</tbody>\n",
       "</table>\n"
      ],
      "text/latex": [
       "A tibble: 6 × 3\n",
       "\\begin{tabular}{lll}\n",
       " G1 & G2 & G3\\\\\n",
       " <dbl> & <dbl> & <dbl>\\\\\n",
       "\\hline\n",
       "\t  0 & 11 & 11\\\\\n",
       "\t  9 & 11 & 11\\\\\n",
       "\t 12 & 13 & 12\\\\\n",
       "\t 14 & 14 & 14\\\\\n",
       "\t 11 & 13 & 13\\\\\n",
       "\t 12 & 12 & 13\\\\\n",
       "\\end{tabular}\n"
      ],
      "text/markdown": [
       "\n",
       "A tibble: 6 × 3\n",
       "\n",
       "| G1 &lt;dbl&gt; | G2 &lt;dbl&gt; | G3 &lt;dbl&gt; |\n",
       "|---|---|---|\n",
       "|  0 | 11 | 11 |\n",
       "|  9 | 11 | 11 |\n",
       "| 12 | 13 | 12 |\n",
       "| 14 | 14 | 14 |\n",
       "| 11 | 13 | 13 |\n",
       "| 12 | 12 | 13 |\n",
       "\n"
      ],
      "text/plain": [
       "  G1 G2 G3\n",
       "1  0 11 11\n",
       "2  9 11 11\n",
       "3 12 13 12\n",
       "4 14 14 14\n",
       "5 11 13 13\n",
       "6 12 12 13"
      ]
     },
     "metadata": {},
     "output_type": "display_data"
    }
   ],
   "source": [
    "set.seed(1234)\n",
    "student_split <- initial_split(student_select, prop = 0.75, strata = G3)\n",
    "student_training <- training(student_split) \n",
    "student_testing <- testing(student_split)\n",
    "tags$h2(\"Table 3\")\n",
    "head(student_training)"
   ]
  },
  {
   "cell_type": "code",
   "execution_count": 5,
   "metadata": {},
   "outputs": [
    {
     "data": {
      "text/html": [
       "<!doctype html>\n",
       "<html>\n",
       "\t<head>\n",
       "\t\t<meta charset=\"utf-8\">\n",
       "\t\t\n",
       "\t</head>\n",
       "\t<body>\n",
       "\t\t<h2>Table 4</h2>\n",
       "\t</body>\n",
       "</html>\n"
      ],
      "text/plain": [
       "Shiny tags cannot be represented in plain text (need html)"
      ]
     },
     "metadata": {
      "text/html": {
       "isolated": true
      }
     },
     "output_type": "display_data"
    },
    {
     "data": {
      "text/html": [
       "<table>\n",
       "<caption>A tibble: 3 × 4</caption>\n",
       "<thead>\n",
       "\t<tr><th scope=col>Grading Period</th><th scope=col>Mean</th><th scope=col>Median</th><th scope=col>Number of Rows</th></tr>\n",
       "\t<tr><th scope=col>&lt;chr&gt;</th><th scope=col>&lt;dbl&gt;</th><th scope=col>&lt;dbl&gt;</th><th scope=col>&lt;dbl&gt;</th></tr>\n",
       "</thead>\n",
       "<tbody>\n",
       "\t<tr><td>G1</td><td>11.37295</td><td>11</td><td>488</td></tr>\n",
       "\t<tr><td>G2</td><td>11.58607</td><td>11</td><td>488</td></tr>\n",
       "\t<tr><td>G3</td><td>11.89754</td><td>12</td><td>488</td></tr>\n",
       "</tbody>\n",
       "</table>\n"
      ],
      "text/latex": [
       "A tibble: 3 × 4\n",
       "\\begin{tabular}{llll}\n",
       " Grading Period & Mean & Median & Number of Rows\\\\\n",
       " <chr> & <dbl> & <dbl> & <dbl>\\\\\n",
       "\\hline\n",
       "\t G1 & 11.37295 & 11 & 488\\\\\n",
       "\t G2 & 11.58607 & 11 & 488\\\\\n",
       "\t G3 & 11.89754 & 12 & 488\\\\\n",
       "\\end{tabular}\n"
      ],
      "text/markdown": [
       "\n",
       "A tibble: 3 × 4\n",
       "\n",
       "| Grading Period &lt;chr&gt; | Mean &lt;dbl&gt; | Median &lt;dbl&gt; | Number of Rows &lt;dbl&gt; |\n",
       "|---|---|---|---|\n",
       "| G1 | 11.37295 | 11 | 488 |\n",
       "| G2 | 11.58607 | 11 | 488 |\n",
       "| G3 | 11.89754 | 12 | 488 |\n",
       "\n"
      ],
      "text/plain": [
       "  Grading Period Mean     Median Number of Rows\n",
       "1 G1             11.37295 11     488           \n",
       "2 G2             11.58607 11     488           \n",
       "3 G3             11.89754 12     488           "
      ]
     },
     "metadata": {},
     "output_type": "display_data"
    }
   ],
   "source": [
    "student_statistics <- student_training %>%\n",
    "summarize(\"Number of Rows\" = nrow(student_training),\n",
    "         \"Mean of G1\" = mean(G1),\n",
    "         \"Mean of G2\" = mean(G2),\n",
    "         \"Mean of G3\" = mean(G3),\n",
    "         \"Median of G1\" = median(G1),\n",
    "         \"Median of G2\" = median(G2),\n",
    "         \"Median of G3\" = median(G3))\n",
    "\n",
    "statistics_summary <- tibble(\"Grading Period\" = c(\"G1\",\"G2\",\"G3\"), #aggregated statistics into a single tidy table\n",
    "                       \"Mean\" = c(11.37295, 11.58607, 11.89754),\n",
    "                       \"Median\" = c(11, 11, 12),\n",
    "                       \"Number of Rows\" = c(488))\n",
    "tags$h2(\"Table 4\")\n",
    "statistics_summary"
   ]
  },
  {
   "cell_type": "markdown",
   "metadata": {},
   "source": [
    "We made histograms to visualize the distribution for each grading period (G1, G2 and G3). These will be helpful as they are a concise visualization of the variables in the training data set. "
   ]
  },
  {
   "cell_type": "code",
   "execution_count": 6,
   "metadata": {},
   "outputs": [
    {
     "data": {
      "text/html": [
       "<!doctype html>\n",
       "<html>\n",
       "\t<head>\n",
       "\t\t<meta charset=\"utf-8\">\n",
       "\t\t\n",
       "\t</head>\n",
       "\t<body>\n",
       "\t\t<h2>Figure 2</h2>\n",
       "\t</body>\n",
       "</html>\n"
      ],
      "text/plain": [
       "Shiny tags cannot be represented in plain text (need html)"
      ]
     },
     "metadata": {
      "text/html": {
       "isolated": true
      }
     },
     "output_type": "display_data"
    },
    {
     "data": {
      "image/png": "[encoded data removed]",
      "text/plain": [
       "plot without title"
      ]
     },
     "metadata": {
      "image/png": {
       "height": 300,
       "width": 900
      }
     },
     "output_type": "display_data"
    }
   ],
   "source": [
    "options(repr.plot.width = 15, repr.plot.height = 5)\n",
    "g1_distribution <- ggplot(student_training, aes(x = G1))+\n",
    "geom_histogram(bins = 20)+\n",
    "labs(x = \"First Period (G1) Grades (out of 20)\", y = \"Count\")+\n",
    "theme(text = element_text(size = 13))+\n",
    "ggtitle(\"Distribution of First Period (G1) Grades\")\n",
    "g2_distribution <- ggplot(student_training, aes(x = G2))+\n",
    "geom_histogram(bins = 20)+\n",
    "labs(x = \"Second Period (G2) Grades (out of 20)\", y = \"Count\")+\n",
    "theme(text = element_text(size = 13))+\n",
    "ggtitle(\"Distribution of Second Period (G2) Grades\")\n",
    "g3_distribution <- ggplot(student_training, aes(x = G3))+\n",
    "geom_histogram(bins = 20)+\n",
    "labs(x = \"Final (G3) Grades (out of 20)\", y = \"Count\")+\n",
    "ggtitle(\"Distribution of Final (G3) Grades\")+\n",
    "theme(text = element_text(size = 13))\n",
    "predictor_distribution <- plot_grid(g1_distribution,\n",
    "                                    g2_distribution,\n",
    "                                    g3_distribution,\n",
    "                                    ncol = 3)\n",
    "tags$h2(\"Figure 2\")\n",
    "predictor_distribution"
   ]
  },
  {
   "cell_type": "markdown",
   "metadata": {},
   "source": [
    "As we can see from the histograms, the distributions show no severe skews, but do have some outliers at 0. "
   ]
  },
  {
   "cell_type": "markdown",
   "metadata": {},
   "source": [
    "Planning the analysis:\n",
    "\n",
    "We will conduct our analysis using a multivariable k-nearest neighbors regression model as it requires few assumptions as to what our data must look like and is unaffected by collinearity. We will also use 10-fold cross-validation to choose the number of neighbors to minimize the RMSE of our model and to limit the effects of random chance. We will visualize the results of our k-nearest neighbors regression model by creating a plot that visualizes the relationship between G3 with G1 and G2 along with a regression line. We expect to find that there is a strong positive relationship between final grades with G1 and G2. We also expect the predicted final grades to be relatively close to the actual final grades due to the high correlation between the variables. "
   ]
  },
  {
   "cell_type": "markdown",
   "metadata": {},
   "source": [
    "Analysis:\n",
    "\n",
    "To begin, we create a tuning model to determine the best k-value for our data and make a recipe that predicts G3 based on G1 and G2, and scales and centers all predictors. Next, we created our object to perform 10-fold cross-validation with our predicted variables as the strata; and made our workflow with our basic recipe and model. \n",
    "We then tested k-values from 1-200 with cross-validation and collected the metrics for the k-values. By filtering for the lowest RMSE, we determined that a k-value of 8 would minimize our error (the lowest being 1.40). Using this k-value of 8 we built our new, best model and made a fit to be evaluated with the testing data. \n",
    "Finally, we ran the testing data through the fit and collected the metrics to determine our RMPSE on the testing data. "
   ]
  },
  {
   "cell_type": "code",
   "execution_count": 7,
   "metadata": {},
   "outputs": [
    {
     "data": {
      "text/html": [
       "<!doctype html>\n",
       "<html>\n",
       "\t<head>\n",
       "\t\t<meta charset=\"utf-8\">\n",
       "\t\t\n",
       "\t</head>\n",
       "\t<body>\n",
       "\t\t<h2>KNN Model 1</h2>\n",
       "\t</body>\n",
       "</html>\n"
      ],
      "text/plain": [
       "Shiny tags cannot be represented in plain text (need html)"
      ]
     },
     "metadata": {
      "text/html": {
       "isolated": true
      }
     },
     "output_type": "display_data"
    },
    {
     "data": {
      "text/plain": [
       "K-Nearest Neighbor Model Specification (regression)\n",
       "\n",
       "Main Arguments:\n",
       "  neighbors = tune()\n",
       "  weight_func = rectangular\n",
       "\n",
       "Computational engine: kknn \n"
      ]
     },
     "metadata": {},
     "output_type": "display_data"
    }
   ],
   "source": [
    "student_spec <- nearest_neighbor(weight_func = \"rectangular\", neighbor = tune()) %>%\n",
    "set_engine(\"kknn\") %>%\n",
    "set_mode(\"regression\")\n",
    "tags$h2(\"KNN Model 1\")\n",
    "student_spec"
   ]
  },
  {
   "cell_type": "code",
   "execution_count": 8,
   "metadata": {},
   "outputs": [
    {
     "data": {
      "text/html": [
       "<!doctype html>\n",
       "<html>\n",
       "\t<head>\n",
       "\t\t<meta charset=\"utf-8\">\n",
       "\t\t\n",
       "\t</head>\n",
       "\t<body>\n",
       "\t\t<h2>KNN Recipe 1</h2>\n",
       "\t</body>\n",
       "</html>\n"
      ],
      "text/plain": [
       "Shiny tags cannot be represented in plain text (need html)"
      ]
     },
     "metadata": {
      "text/html": {
       "isolated": true
      }
     },
     "output_type": "display_data"
    },
    {
     "data": {
      "text/plain": [
       "Data Recipe\n",
       "\n",
       "Inputs:\n",
       "\n",
       "      role #variables\n",
       "   outcome          1\n",
       " predictor          2\n",
       "\n",
       "Operations:\n",
       "\n",
       "Scaling for all_predictors()\n",
       "Centering for all_predictors()"
      ]
     },
     "metadata": {},
     "output_type": "display_data"
    }
   ],
   "source": [
    "student_recipe <- recipe(G3 ~ G1 + G2, data = student_training) %>%\n",
    "step_scale(all_predictors()) %>%\n",
    "step_center(all_predictors())\n",
    "tags$h2(\"KNN Recipe 1\")\n",
    "student_recipe"
   ]
  },
  {
   "cell_type": "code",
   "execution_count": 9,
   "metadata": {},
   "outputs": [
    {
     "data": {
      "text/html": [
       "<!doctype html>\n",
       "<html>\n",
       "\t<head>\n",
       "\t\t<meta charset=\"utf-8\">\n",
       "\t\t\n",
       "\t</head>\n",
       "\t<body>\n",
       "\t\t<h2>KNN Workflow 1</h2>\n",
       "\t</body>\n",
       "</html>\n"
      ],
      "text/plain": [
       "Shiny tags cannot be represented in plain text (need html)"
      ]
     },
     "metadata": {
      "text/html": {
       "isolated": true
      }
     },
     "output_type": "display_data"
    },
    {
     "data": {
      "text/plain": [
       "══ Workflow ════════════════════════════════════════════════════════════════════\n",
       "\u001b[3mPreprocessor:\u001b[23m Recipe\n",
       "\u001b[3mModel:\u001b[23m nearest_neighbor()\n",
       "\n",
       "── Preprocessor ────────────────────────────────────────────────────────────────\n",
       "2 Recipe Steps\n",
       "\n",
       "● step_scale()\n",
       "● step_center()\n",
       "\n",
       "── Model ───────────────────────────────────────────────────────────────────────\n",
       "K-Nearest Neighbor Model Specification (regression)\n",
       "\n",
       "Main Arguments:\n",
       "  neighbors = tune()\n",
       "  weight_func = rectangular\n",
       "\n",
       "Computational engine: kknn \n"
      ]
     },
     "metadata": {},
     "output_type": "display_data"
    }
   ],
   "source": [
    "student_vfold <- vfold_cv(student_training, v = 10, strata = G3)\n",
    "student_workflow <- workflow() %>%\n",
    "add_recipe(student_recipe) %>%\n",
    "add_model(student_spec)\n",
    "tags$h2(\"KNN Workflow 1\")\n",
    "student_workflow"
   ]
  },
  {
   "cell_type": "code",
   "execution_count": 10,
   "metadata": {},
   "outputs": [
    {
     "data": {
      "text/html": [
       "<!doctype html>\n",
       "<html>\n",
       "\t<head>\n",
       "\t\t<meta charset=\"utf-8\">\n",
       "\t\t\n",
       "\t</head>\n",
       "\t<body>\n",
       "\t\t<h2>Table 5</h2>\n",
       "\t</body>\n",
       "</html>\n"
      ],
      "text/plain": [
       "Shiny tags cannot be represented in plain text (need html)"
      ]
     },
     "metadata": {
      "text/html": {
       "isolated": true
      }
     },
     "output_type": "display_data"
    },
    {
     "data": {
      "text/html": [
       "<table>\n",
       "<caption>A tibble: 6 × 7</caption>\n",
       "<thead>\n",
       "\t<tr><th scope=col>neighbors</th><th scope=col>.metric</th><th scope=col>.estimator</th><th scope=col>mean</th><th scope=col>n</th><th scope=col>std_err</th><th scope=col>.config</th></tr>\n",
       "\t<tr><th scope=col>&lt;int&gt;</th><th scope=col>&lt;chr&gt;</th><th scope=col>&lt;chr&gt;</th><th scope=col>&lt;dbl&gt;</th><th scope=col>&lt;int&gt;</th><th scope=col>&lt;dbl&gt;</th><th scope=col>&lt;chr&gt;</th></tr>\n",
       "</thead>\n",
       "<tbody>\n",
       "\t<tr><td>1</td><td>rmse</td><td>standard</td><td>1.7567797</td><td>10</td><td>0.15862691</td><td>Model001</td></tr>\n",
       "\t<tr><td>1</td><td>rsq </td><td>standard</td><td>0.7221983</td><td>10</td><td>0.03950129</td><td>Model001</td></tr>\n",
       "\t<tr><td>2</td><td>rmse</td><td>standard</td><td>1.5826320</td><td>10</td><td>0.17761345</td><td>Model002</td></tr>\n",
       "\t<tr><td>2</td><td>rsq </td><td>standard</td><td>0.7579105</td><td>10</td><td>0.04408261</td><td>Model002</td></tr>\n",
       "\t<tr><td>3</td><td>rmse</td><td>standard</td><td>1.5638047</td><td>10</td><td>0.13729703</td><td>Model003</td></tr>\n",
       "\t<tr><td>3</td><td>rsq </td><td>standard</td><td>0.7627604</td><td>10</td><td>0.03389215</td><td>Model003</td></tr>\n",
       "</tbody>\n",
       "</table>\n"
      ],
      "text/latex": [
       "A tibble: 6 × 7\n",
       "\\begin{tabular}{lllllll}\n",
       " neighbors & .metric & .estimator & mean & n & std\\_err & .config\\\\\n",
       " <int> & <chr> & <chr> & <dbl> & <int> & <dbl> & <chr>\\\\\n",
       "\\hline\n",
       "\t 1 & rmse & standard & 1.7567797 & 10 & 0.15862691 & Model001\\\\\n",
       "\t 1 & rsq  & standard & 0.7221983 & 10 & 0.03950129 & Model001\\\\\n",
       "\t 2 & rmse & standard & 1.5826320 & 10 & 0.17761345 & Model002\\\\\n",
       "\t 2 & rsq  & standard & 0.7579105 & 10 & 0.04408261 & Model002\\\\\n",
       "\t 3 & rmse & standard & 1.5638047 & 10 & 0.13729703 & Model003\\\\\n",
       "\t 3 & rsq  & standard & 0.7627604 & 10 & 0.03389215 & Model003\\\\\n",
       "\\end{tabular}\n"
      ],
      "text/markdown": [
       "\n",
       "A tibble: 6 × 7\n",
       "\n",
       "| neighbors &lt;int&gt; | .metric &lt;chr&gt; | .estimator &lt;chr&gt; | mean &lt;dbl&gt; | n &lt;int&gt; | std_err &lt;dbl&gt; | .config &lt;chr&gt; |\n",
       "|---|---|---|---|---|---|---|\n",
       "| 1 | rmse | standard | 1.7567797 | 10 | 0.15862691 | Model001 |\n",
       "| 1 | rsq  | standard | 0.7221983 | 10 | 0.03950129 | Model001 |\n",
       "| 2 | rmse | standard | 1.5826320 | 10 | 0.17761345 | Model002 |\n",
       "| 2 | rsq  | standard | 0.7579105 | 10 | 0.04408261 | Model002 |\n",
       "| 3 | rmse | standard | 1.5638047 | 10 | 0.13729703 | Model003 |\n",
       "| 3 | rsq  | standard | 0.7627604 | 10 | 0.03389215 | Model003 |\n",
       "\n"
      ],
      "text/plain": [
       "  neighbors .metric .estimator mean      n  std_err    .config \n",
       "1 1         rmse    standard   1.7567797 10 0.15862691 Model001\n",
       "2 1         rsq     standard   0.7221983 10 0.03950129 Model001\n",
       "3 2         rmse    standard   1.5826320 10 0.17761345 Model002\n",
       "4 2         rsq     standard   0.7579105 10 0.04408261 Model002\n",
       "5 3         rmse    standard   1.5638047 10 0.13729703 Model003\n",
       "6 3         rsq     standard   0.7627604 10 0.03389215 Model003"
      ]
     },
     "metadata": {},
     "output_type": "display_data"
    }
   ],
   "source": [
    "gridvals <- tibble(neighbors = seq(from = 1, to = 200)) \n",
    "student_results <- student_workflow %>%\n",
    "tune_grid(resamples = student_vfold, grid = gridvals) %>%\n",
    "collect_metrics()\n",
    "tags$h2(\"Table 5\")\n",
    "head(student_results)"
   ]
  },
  {
   "cell_type": "code",
   "execution_count": 11,
   "metadata": {},
   "outputs": [
    {
     "data": {
      "text/html": [
       "<!doctype html>\n",
       "<html>\n",
       "\t<head>\n",
       "\t\t<meta charset=\"utf-8\">\n",
       "\t\t\n",
       "\t</head>\n",
       "\t<body>\n",
       "\t\t<h2>Table 6</h2>\n",
       "\t</body>\n",
       "</html>\n"
      ],
      "text/plain": [
       "Shiny tags cannot be represented in plain text (need html)"
      ]
     },
     "metadata": {
      "text/html": {
       "isolated": true
      }
     },
     "output_type": "display_data"
    },
    {
     "data": {
      "text/html": [
       "<table>\n",
       "<caption>A tibble: 1 × 7</caption>\n",
       "<thead>\n",
       "\t<tr><th scope=col>neighbors</th><th scope=col>.metric</th><th scope=col>.estimator</th><th scope=col>mean</th><th scope=col>n</th><th scope=col>std_err</th><th scope=col>.config</th></tr>\n",
       "\t<tr><th scope=col>&lt;int&gt;</th><th scope=col>&lt;chr&gt;</th><th scope=col>&lt;chr&gt;</th><th scope=col>&lt;dbl&gt;</th><th scope=col>&lt;int&gt;</th><th scope=col>&lt;dbl&gt;</th><th scope=col>&lt;chr&gt;</th></tr>\n",
       "</thead>\n",
       "<tbody>\n",
       "\t<tr><td>8</td><td>rmse</td><td>standard</td><td>1.407227</td><td>10</td><td>0.1243025</td><td>Model008</td></tr>\n",
       "</tbody>\n",
       "</table>\n"
      ],
      "text/latex": [
       "A tibble: 1 × 7\n",
       "\\begin{tabular}{lllllll}\n",
       " neighbors & .metric & .estimator & mean & n & std\\_err & .config\\\\\n",
       " <int> & <chr> & <chr> & <dbl> & <int> & <dbl> & <chr>\\\\\n",
       "\\hline\n",
       "\t 8 & rmse & standard & 1.407227 & 10 & 0.1243025 & Model008\\\\\n",
       "\\end{tabular}\n"
      ],
      "text/markdown": [
       "\n",
       "A tibble: 1 × 7\n",
       "\n",
       "| neighbors &lt;int&gt; | .metric &lt;chr&gt; | .estimator &lt;chr&gt; | mean &lt;dbl&gt; | n &lt;int&gt; | std_err &lt;dbl&gt; | .config &lt;chr&gt; |\n",
       "|---|---|---|---|---|---|---|\n",
       "| 8 | rmse | standard | 1.407227 | 10 | 0.1243025 | Model008 |\n",
       "\n"
      ],
      "text/plain": [
       "  neighbors .metric .estimator mean     n  std_err   .config \n",
       "1 8         rmse    standard   1.407227 10 0.1243025 Model008"
      ]
     },
     "metadata": {},
     "output_type": "display_data"
    }
   ],
   "source": [
    "student_min <- student_results %>%\n",
    "filter(.metric == 'rmse') %>%\n",
    "arrange(mean) %>%\n",
    "slice(1)\n",
    "tags$h2(\"Table 6\")\n",
    "student_min"
   ]
  },
  {
   "cell_type": "code",
   "execution_count": 12,
   "metadata": {},
   "outputs": [
    {
     "data": {
      "text/html": [
       "'8: Number of neighbors that correspond to lowest RMSE'"
      ],
      "text/latex": [
       "'8: Number of neighbors that correspond to lowest RMSE'"
      ],
      "text/markdown": [
       "'8: Number of neighbors that correspond to lowest RMSE'"
      ],
      "text/plain": [
       "[1] \"8: Number of neighbors that correspond to lowest RMSE\""
      ]
     },
     "metadata": {},
     "output_type": "display_data"
    }
   ],
   "source": [
    "k_min <- student_min %>%\n",
    "pull(neighbors)\n",
    "paste0(k_min, \": Number of neighbors that correspond to lowest RMSE\")"
   ]
  },
  {
   "cell_type": "code",
   "execution_count": 13,
   "metadata": {},
   "outputs": [
    {
     "data": {
      "text/html": [
       "<!doctype html>\n",
       "<html>\n",
       "\t<head>\n",
       "\t\t<meta charset=\"utf-8\">\n",
       "\t\t\n",
       "\t</head>\n",
       "\t<body>\n",
       "\t\t<h2>KNN Model 2</h2>\n",
       "\t</body>\n",
       "</html>\n"
      ],
      "text/plain": [
       "Shiny tags cannot be represented in plain text (need html)"
      ]
     },
     "metadata": {
      "text/html": {
       "isolated": true
      }
     },
     "output_type": "display_data"
    },
    {
     "data": {
      "text/plain": [
       "K-Nearest Neighbor Model Specification (regression)\n",
       "\n",
       "Main Arguments:\n",
       "  neighbors = k_min\n",
       "  weight_func = rectangular\n",
       "\n",
       "Computational engine: kknn \n"
      ]
     },
     "metadata": {},
     "output_type": "display_data"
    }
   ],
   "source": [
    "student_best_spec <- nearest_neighbor(weight_func = \"rectangular\", neighbors = k_min) %>%\n",
    "set_engine(\"kknn\") %>%\n",
    "set_mode(\"regression\")\n",
    "tags$h2(\"KNN Model 2\")\n",
    "student_best_spec"
   ]
  },
  {
   "cell_type": "code",
   "execution_count": 14,
   "metadata": {},
   "outputs": [
    {
     "data": {
      "text/html": [
       "<!doctype html>\n",
       "<html>\n",
       "\t<head>\n",
       "\t\t<meta charset=\"utf-8\">\n",
       "\t\t\n",
       "\t</head>\n",
       "\t<body>\n",
       "\t\t<h2>KNN Workflow 2</h2>\n",
       "\t</body>\n",
       "</html>\n"
      ],
      "text/plain": [
       "Shiny tags cannot be represented in plain text (need html)"
      ]
     },
     "metadata": {
      "text/html": {
       "isolated": true
      }
     },
     "output_type": "display_data"
    },
    {
     "data": {
      "text/plain": [
       "══ Workflow [trained] ══════════════════════════════════════════════════════════\n",
       "\u001b[3mPreprocessor:\u001b[23m Recipe\n",
       "\u001b[3mModel:\u001b[23m nearest_neighbor()\n",
       "\n",
       "── Preprocessor ────────────────────────────────────────────────────────────────\n",
       "2 Recipe Steps\n",
       "\n",
       "● step_scale()\n",
       "● step_center()\n",
       "\n",
       "── Model ───────────────────────────────────────────────────────────────────────\n",
       "\n",
       "Call:\n",
       "kknn::train.kknn(formula = ..y ~ ., data = data, ks = ~k_min,     kernel = ~\"rectangular\")\n",
       "\n",
       "Type of response variable: continuous\n",
       "minimal mean absolute error: 0.8706455\n",
       "Minimal mean squared error: 1.878298\n",
       "Best kernel: rectangular\n",
       "Best k: 8"
      ]
     },
     "metadata": {},
     "output_type": "display_data"
    }
   ],
   "source": [
    "student_best_fit <- workflow() %>%\n",
    "add_recipe(student_recipe) %>%\n",
    "add_model(student_best_spec) %>%\n",
    "fit(data = student_training)\n",
    "tags$h2(\"KNN Workflow 2\")\n",
    "student_best_fit"
   ]
  },
  {
   "cell_type": "code",
   "execution_count": 15,
   "metadata": {},
   "outputs": [
    {
     "data": {
      "text/html": [
       "<!doctype html>\n",
       "<html>\n",
       "\t<head>\n",
       "\t\t<meta charset=\"utf-8\">\n",
       "\t\t\n",
       "\t</head>\n",
       "\t<body>\n",
       "\t\t<h2>Table 7</h2>\n",
       "\t</body>\n",
       "</html>\n"
      ],
      "text/plain": [
       "Shiny tags cannot be represented in plain text (need html)"
      ]
     },
     "metadata": {
      "text/html": {
       "isolated": true
      }
     },
     "output_type": "display_data"
    },
    {
     "data": {
      "text/html": [
       "<table>\n",
       "<caption>A tibble: 1 × 3</caption>\n",
       "<thead>\n",
       "\t<tr><th scope=col>.metric</th><th scope=col>.estimator</th><th scope=col>.estimate</th></tr>\n",
       "\t<tr><th scope=col>&lt;chr&gt;</th><th scope=col>&lt;chr&gt;</th><th scope=col>&lt;dbl&gt;</th></tr>\n",
       "</thead>\n",
       "<tbody>\n",
       "\t<tr><td>rmse</td><td>standard</td><td>1.043363</td></tr>\n",
       "</tbody>\n",
       "</table>\n"
      ],
      "text/latex": [
       "A tibble: 1 × 3\n",
       "\\begin{tabular}{lll}\n",
       " .metric & .estimator & .estimate\\\\\n",
       " <chr> & <chr> & <dbl>\\\\\n",
       "\\hline\n",
       "\t rmse & standard & 1.043363\\\\\n",
       "\\end{tabular}\n"
      ],
      "text/markdown": [
       "\n",
       "A tibble: 1 × 3\n",
       "\n",
       "| .metric &lt;chr&gt; | .estimator &lt;chr&gt; | .estimate &lt;dbl&gt; |\n",
       "|---|---|---|\n",
       "| rmse | standard | 1.043363 |\n",
       "\n"
      ],
      "text/plain": [
       "  .metric .estimator .estimate\n",
       "1 rmse    standard   1.043363 "
      ]
     },
     "metadata": {},
     "output_type": "display_data"
    }
   ],
   "source": [
    "student_summary <- predict(student_best_fit, student_testing) %>%\n",
    "bind_cols(student_testing) %>%\n",
    "metrics(truth = G3, estimate = .pred) %>%\n",
    "filter(.metric == \"rmse\")\n",
    "tags$h2(\"Table 7\")\n",
    "student_summary"
   ]
  },
  {
   "cell_type": "code",
   "execution_count": 16,
   "metadata": {},
   "outputs": [
    {
     "data": {
      "text/html": [
       "'1.40722689307898: RMSE (for training data)'"
      ],
      "text/latex": [
       "'1.40722689307898: RMSE (for training data)'"
      ],
      "text/markdown": [
       "'1.40722689307898: RMSE (for training data)'"
      ],
      "text/plain": [
       "[1] \"1.40722689307898: RMSE (for training data)\""
      ]
     },
     "metadata": {},
     "output_type": "display_data"
    },
    {
     "data": {
      "text/html": [
       "'1.04336300799848: RMSPE (for testing data)'"
      ],
      "text/latex": [
       "'1.04336300799848: RMSPE (for testing data)'"
      ],
      "text/markdown": [
       "'1.04336300799848: RMSPE (for testing data)'"
      ],
      "text/plain": [
       "[1] \"1.04336300799848: RMSPE (for testing data)\""
      ]
     },
     "metadata": {},
     "output_type": "display_data"
    }
   ],
   "source": [
    "paste0(student_min %>% pull(mean), \": RMSE (for training data)\")\n",
    "paste0(student_summary %>% pull(.estimate), \": RMSPE (for testing data)\")"
   ]
  },
  {
   "cell_type": "markdown",
   "metadata": {},
   "source": [
    "Analyzing the effectiveness of our model:\n",
    "\n",
    "Firstly, through the building and tuning of our model, we found that the number of neighbors which minimized our mean-squared error was 8. Building and evaluating a model with this parameter and evaluating it using our testing data netted a RMSPE of 1.04 compared to that of 1.41 from the training data, which indicates that it actually did better on our testing data than the training data. This value of 1.04 corresponds to the predicted error of the model when testing on new data, on the scale of the score (out of 20) for the final grade. This more or less aligned with what we had originally expected, as a predicted error of 1 (on a scale of 20) is fairly reliable."
   ]
  },
  {
   "cell_type": "markdown",
   "metadata": {},
   "source": [
    "Visualizing our model:\n",
    "\n",
    "In order to visualize our model, we have created two separate plots with their own regression line. We did so because our model uses two predictors, and we are unable to plot in 3 dimensions. The first plot shows the relationship between G3 and G1 and the second plot shows the relationship between G3 and G2. We have predicted the final grades on the testing data set using the model created earlier that produces the lowest rmspe. This allows us to create the regression line that represents the relationship between the predicted final grades, and the predictor corresponding to its plot. We use the geom_smooth function to plot the regression line and we see that it is almost a straight line and has slope nearly equal to 1. We also see that most points are relatively close to the prediction area, although there are some outliers when G3 is 0 but the grades for G1 and G2 are greater than 0. Thus, the two plots help us in understanding the effectiveness of our model. "
   ]
  },
  {
   "cell_type": "code",
   "execution_count": 17,
   "metadata": {},
   "outputs": [
    {
     "name": "stderr",
     "output_type": "stream",
     "text": [
      "`geom_smooth()` using method = 'loess' and formula 'y ~ x'\n",
      "\n",
      "`geom_smooth()` using method = 'loess' and formula 'y ~ x'\n",
      "\n"
     ]
    },
    {
     "data": {
      "text/html": [
       "<!doctype html>\n",
       "<html>\n",
       "\t<head>\n",
       "\t\t<meta charset=\"utf-8\">\n",
       "\t\t\n",
       "\t</head>\n",
       "\t<body>\n",
       "\t\t<h2>Figure 3</h2>\n",
       "\t</body>\n",
       "</html>\n"
      ],
      "text/plain": [
       "Shiny tags cannot be represented in plain text (need html)"
      ]
     },
     "metadata": {
      "text/html": {
       "isolated": true
      }
     },
     "output_type": "display_data"
    },
    {
     "data": {
      "image/png": "[encoded data removed]",
      "text/plain": [
       "plot without title"
      ]
     },
     "metadata": {
      "image/png": {
       "height": 300,
       "width": 900
      }
     },
     "output_type": "display_data"
    }
   ],
   "source": [
    "options(repr.plot.width = 15, rer.plot.height = 7)\n",
    "student_preds <- predict(student_best_fit, student_testing) %>%\n",
    "bind_cols(student_testing)\n",
    "student_plot_g1 <- student_testing %>%\n",
    "ggplot(aes(x = G1, y = G3)) +\n",
    "geom_point() +\n",
    "geom_smooth(data = student_preds,\n",
    "         mapping = aes(x = G1, y = .pred),\n",
    "         color = \"blue\") +\n",
    "ggtitle(paste0(\"K = \", k_min, \": Relationship between final grades and first period grades\")) +\n",
    "labs(x = \"First Period (G1) Grades (out of 20)\", y = \"Final (G3) Grades (out of 20)\") +\n",
    "theme(text = element_text(size = 13))\n",
    "\n",
    "student_plot_g2 <- student_testing %>%\n",
    "ggplot(aes(x = G2, y = G3)) +\n",
    "geom_point() +\n",
    "geom_smooth(data = student_preds,\n",
    "         mapping = aes(x = G2, y = .pred),\n",
    "         color = \"blue\") +\n",
    "ggtitle(paste0(\"K = \", k_min, \": Relationship between final grades and second period grades\")) +\n",
    "labs(x = \"Second Period (G2) Grades (out of 20)\", y = \"Final (G3) Grades (out of 20)\") +\n",
    "theme(text = element_text(size = 13))\n",
    "\n",
    "model_visualization <- plot_grid(student_plot_g1,\n",
    "                                student_plot_g2,\n",
    "                                ncol = 2)\n",
    "tags$h2(\"Figure 3\")\n",
    "model_visualization"
   ]
  },
  {
   "cell_type": "markdown",
   "metadata": {},
   "source": [
    "Conclusion:\n",
    "\n",
    "These findings could be used to help students who might be struggling, especially those who are predicted to have lower/failing final grades. It could also help the school to predict a student's final grades based on their previous performance, over time this could help the school find trends in performance which might allow it to improve upon itself and offer specialized help to students in need, or even fast-track the progress of those who are excelling. The predictions could even be shown to the students or their parents in order to encourage them to work harder or show how much their current work could pay off. \n",
    "\n",
    "All this could lead to further analysis on the prediction of final grades, perhaps using variables other than first and second period grades and could be used to predict grades throughout the year, rather than just the final. It could also lead to questions on how other variables could be predicted, such as a student’s number of failures or amount of free time, as this might also help indicate if a student needs additional help for their schooling. Or, additionally, how much support the student is receiving in and outside of school. In both these situations, the ultimate goal would be to offer a stronger support system around students, and to find and help those who need it before it otherwise would have been noticed. "
   ]
  },
  {
   "cell_type": "markdown",
   "metadata": {},
   "source": [
    "Legend:\n",
    "\n",
    "Table 1 - Our raw, unfiltered data set, containing all 32 predictor variables and 1 predicted variable.<br>\n",
    "Table 2 - A table of correlation values between each numeric predictor and our predicted variable.<br>\n",
    "Table 3 - Our selected, filtered and split training data set.<br> \n",
    "Table 4 - Summary statistics for our predictors and predicted variable.<br>\n",
    "Table 5 - Metrics from 10-fold cross-validation for the first 200 k-values.<br> \n",
    "Table 6 - Metrics for the lowest RMSE from 10-fold cross-validation.<br> \n",
    "Table 7 - Metrics for lowest RMSPE on our testing data<br>\n",
    "\n",
    "KNN Model 1 - Model for tuning for the number of nearest neighbors<br>\n",
    "KNN Recipe 1 - Recipe for predicting G3 using G1 and G2, and centering and scaling all predictors.<br>\n",
    "KNN Workflow 1 - Workflow for the tuning model and basic recipe for cross-validation.<br>\n",
    "KNN Model 2 - Best model using 8 neighbors<br> \n",
    "KNN Workflow 2 - Workflow using basic recipe and updated model with specified parameter.<br>\n",
    "\n",
    "Figure 1 - A plot of the correlation values and linear relationship between our chosen predictors and predicted variable.<br>\n",
    "Figure 2 - A histogram for each of our used variables.<br>\n",
    "Figure 3 - Visualization of our model. Each of the predictors (G1 and G2) against G3, the blue line is the predicted value.<br> "
   ]
  },
  {
   "cell_type": "markdown",
   "metadata": {},
   "source": [
    "Citations:\n",
    "\n",
    "“UCI Machine Learning Repository: Student Performance Data Set.” Uci.edu, 2014, www.archive.ics.uci.edu/ml/datasets/student+performance\n",
    "\n",
    "“Correlation Coefficient | R Tutorial.” R-Tutor.com, 2021, www.r-tutor.com/elementary-statistics/numerical-measures/correlation-coefficient\n",
    "\n",
    "Cortez, Paulo, and Alice Silva. USING DATA MINING to PREDICT SECONDARY SCHOOL STUDENT PERFORMANCE. http://www3.dsi.uminho.pt/pcortez/student.pdf\n",
    "\n",
    "Tiffany-Anne Timbers, et al. “Data Science: A First Introduction.” Github.io, 18 Nov. 2021, www.ubc-dsci.github.io/introduction-to-datascience/"
   ]
  }
 ],
 "metadata": {
  "kernelspec": {
   "display_name": "R",
   "language": "R",
   "name": "ir"
  },
  "language_info": {
   "codemirror_mode": "r",
   "file_extension": ".r",
   "mimetype": "text/x-r-source",
   "name": "R",
   "pygments_lexer": "r",
   "version": "4.0.0"
  }
 },
 "nbformat": 4,
 "nbformat_minor": 4
}
